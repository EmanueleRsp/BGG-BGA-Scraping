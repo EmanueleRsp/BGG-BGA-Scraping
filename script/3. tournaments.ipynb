{
 "cells": [
  {
   "cell_type": "markdown",
   "metadata": {},
   "source": [
    "# Retrieve tournaments"
   ]
  },
  {
   "cell_type": "markdown",
   "metadata": {},
   "source": [
    "> Nei dati scaricati mancano: "
   ]
  },
  {
   "cell_type": "markdown",
   "metadata": {},
   "source": [
    "Requirements"
   ]
  },
  {
   "cell_type": "code",
   "execution_count": 1,
   "metadata": {},
   "outputs": [
    {
     "name": "stdout",
     "output_type": "stream",
     "text": [
      "Note: you may need to restart the kernel to use updated packages.\n"
     ]
    }
   ],
   "source": [
    "%pip install -r ../requirements.txt -q"
   ]
  },
  {
   "cell_type": "markdown",
   "metadata": {},
   "source": [
    "Imports"
   ]
  },
  {
   "cell_type": "code",
   "execution_count": 2,
   "metadata": {},
   "outputs": [],
   "source": [
    "import os\n",
    "import time\n",
    "\n",
    "import pandas as pd\n",
    "\n",
    "import requests\n",
    "import xml.etree.ElementTree as ET\n",
    "import json\n",
    "from tqdm import tqdm\n",
    "import logging\n",
    "from bs4 import BeautifulSoup\n",
    "\n",
    "from selenium import webdriver\n",
    "from selenium.webdriver.chrome.service import Service\n",
    "from webdriver_manager.chrome import ChromeDriverManager"
   ]
  },
  {
   "cell_type": "markdown",
   "metadata": {},
   "source": [
    "Logging configuration"
   ]
  },
  {
   "cell_type": "code",
   "execution_count": 3,
   "metadata": {},
   "outputs": [],
   "source": [
    "logging.basicConfig(level=logging.INFO, format=\"%(asctime)s - %(levelname)s - %(message)s\")\n",
    "logger = logging.getLogger()"
   ]
  },
  {
   "cell_type": "markdown",
   "metadata": {},
   "source": [
    "Constants"
   ]
  },
  {
   "cell_type": "code",
   "execution_count": 4,
   "metadata": {},
   "outputs": [],
   "source": [
    "# Repositories managing\n",
    "DATA_DIR = os.path.join(\"..\", \"data\")\n",
    "\n",
    "TOP_GAMES_LIST_DIR = os.path.join(DATA_DIR, \"temp\")\n",
    "TOP_GAMES_LIST_FILE = os.path.join(TOP_GAMES_LIST_DIR, \"boardgames_ranks.csv\")\n",
    "\n",
    "USERNAMES_DIR = os.path.join(DATA_DIR, \"temp\")\n",
    "USERNAMES_FILE = os.path.join(USERNAMES_DIR, \"usernames.json\")\n",
    "\n",
    "TOURNAMENTS_DIR = DATA_DIR\n",
    "TOURNAMENTS_FILE = os.path.join(TOURNAMENTS_DIR, \"raw\", \"tournaments.json\")"
   ]
  },
  {
   "cell_type": "code",
   "execution_count": 5,
   "metadata": {},
   "outputs": [],
   "source": [
    "# Download parameters\n",
    "REQUEST_DELAY = 1\n",
    "BACKUP_PERIOD = 10\n",
    "MAX_RETRIES = 5\n",
    "\n",
    "GAME_NUM = 2"
   ]
  },
  {
   "cell_type": "code",
   "execution_count": 6,
   "metadata": {},
   "outputs": [],
   "source": [
    "# URLs\n",
    "BGG_BASE_URL = \"https://boardgamegeek.com/xmlapi2\"\n",
    "BGA_BASE_URL = \"https://boardgamearena.com\""
   ]
  },
  {
   "cell_type": "markdown",
   "metadata": {},
   "source": [
    "Utility functions"
   ]
  },
  {
   "cell_type": "code",
   "execution_count": 7,
   "metadata": {},
   "outputs": [],
   "source": [
    "def save_to_json(data, filename):\n",
    "    \"\"\"\n",
    "    Salva i dati in un file JSON.\n",
    "    \"\"\"\n",
    "    with open(filename, \"w\", encoding=\"utf-8\") as f:\n",
    "        json.dump(data, f, ensure_ascii=False, indent=4)"
   ]
  },
  {
   "cell_type": "code",
   "execution_count": 8,
   "metadata": {},
   "outputs": [],
   "source": [
    "def append_to_json(new_data, filename):\n",
    "    \"\"\"\n",
    "    Aggiunge nuovi dati a un file JSON esistente senza duplicati.\n",
    "\n",
    "    Args:\n",
    "        new_data (list): I nuovi dati da aggiungere.\n",
    "        filename (str): Il nome del file JSON.\n",
    "    \"\"\"\n",
    "    try:\n",
    "        # Legge i dati esistenti, se il file esiste.\n",
    "        with open(filename, \"r\", encoding=\"utf-8\") as f:\n",
    "            existing_data = json.load(f)\n",
    "    except FileNotFoundError:\n",
    "        # Se il file non esiste, crea una lista vuota.\n",
    "        existing_data = []\n",
    "\n",
    "    # Rimuove duplicati combinando i dati nuovi con quelli esistenti.\n",
    "    combined_data = {json.dumps(item, sort_keys=True): item for item in existing_data + new_data}.values()\n",
    "\n",
    "    # Salva i dati combinati nel file JSON.\n",
    "    with open(filename, \"w\", encoding=\"utf-8\") as f:\n",
    "        json.dump(list(combined_data), f, ensure_ascii=False, indent=4)\n"
   ]
  },
  {
   "cell_type": "markdown",
   "metadata": {},
   "source": [
    "## 1.1 Functions"
   ]
  },
  {
   "cell_type": "code",
   "execution_count": 9,
   "metadata": {},
   "outputs": [],
   "source": [
    "def find_tournaments_by_id(id):\n",
    "    time.sleep(1)\n",
    "    if id==-1:\n",
    "        return pd.DataFrame(columns=[\"game\", \"reg_players\", \"max_players\", \"date\"])\n",
    "    driver.get('https://boardgamearena.com/tournamentlist?d&time=0&prestige=0&type=0&players_per_match_min=0&players_per_match_max=0&gamecateg=3&status=future&game='+str(id)+'&tournament_i_registered=0&full=false')\n",
    "    html= driver.page_source\n",
    "    soup = BeautifulSoup(html)\n",
    "    tournament_list=soup.find(id=\"tournament_list\")\n",
    "    games_list_html=tournament_list.find_all(class_=\"tournaments-list-result__gamename\")\n",
    "    registered_players_html=tournament_list.find_all(class_=\"tournaments-list-result__players-reg\")\n",
    "    max_players_html=tournament_list.find_all(class_=\"tournaments-list-result__players-max\")\n",
    "    date_tournament_html = tournament_list.find_all(class_=\"tournaments-list-result__date\")\n",
    "\n",
    "    games_list = []\n",
    "    reg_players = []\n",
    "    max_players = []\n",
    "    date_tournament = []\n",
    "    for i in range(len(games_list_html)):\n",
    "        games_list.append(games_list_html[i].get_text())\n",
    "        reg_players.append(registered_players_html[i].get_text())\n",
    "        max_players.append(max_players_html[i].get_text())\n",
    "        date_tournament.append(date_tournament_html[i].get_text().split(' ')[1])\n",
    "\n",
    "    zipped = list(zip(games_list, reg_players, max_players, date_tournament))\n",
    "    df = pd.DataFrame(zipped, columns=[\"game\", \"reg_players\", \"max_players\", \"date\"])\n",
    "    return df"
   ]
  },
  {
   "cell_type": "code",
   "execution_count": 10,
   "metadata": {},
   "outputs": [],
   "source": [
    "def find_id_from_gamename(gamename):\n",
    "    driver.get('https://boardgamearena.com/gamepanel?game='+gamename)\n",
    "    time.sleep(1)\n",
    "    html= driver.page_source\n",
    "    soup = BeautifulSoup(html)\n",
    "    x=soup.find_all(class_=\"bgabutton bgabutton_blue bga-button-inner flex-1 truncate svelte-1154gir\")\n",
    "    if not x:\n",
    "        return -1\n",
    "    id = str(x[1]).split(\"=\")[3].split('\"')[0]\n",
    "    return id"
   ]
  },
  {
   "cell_type": "code",
   "execution_count": 11,
   "metadata": {},
   "outputs": [],
   "source": [
    "# Top games data\n",
    "games = pd.read_csv(TOP_GAMES_LIST_FILE).loc[:GAME_NUM-1, [\"id\", \"name\"]]"
   ]
  },
  {
   "cell_type": "code",
   "execution_count": 12,
   "metadata": {},
   "outputs": [
    {
     "name": "stderr",
     "output_type": "stream",
     "text": [
      "2025-01-11 20:18:02,482 - INFO - ====== WebDriver manager ======\n",
      "2025-01-11 20:18:06,258 - INFO - Get LATEST chromedriver version for google-chrome\n",
      "2025-01-11 20:18:07,016 - INFO - Get LATEST chromedriver version for google-chrome\n",
      "2025-01-11 20:18:07,642 - INFO - There is no [win64] chromedriver \"131.0.6778.264\" for browser google-chrome \"131.0.6778\" in cache\n",
      "2025-01-11 20:18:07,643 - INFO - Get LATEST chromedriver version for google-chrome\n",
      "2025-01-11 20:18:09,147 - INFO - WebDriver version 131.0.6778.264 selected\n",
      "2025-01-11 20:18:09,155 - INFO - Modern chrome version https://storage.googleapis.com/chrome-for-testing-public/131.0.6778.264/win32/chromedriver-win32.zip\n",
      "2025-01-11 20:18:09,156 - INFO - About to download new driver from https://storage.googleapis.com/chrome-for-testing-public/131.0.6778.264/win32/chromedriver-win32.zip\n",
      "2025-01-11 20:18:09,874 - INFO - Driver downloading response is 200\n",
      "2025-01-11 20:18:16,341 - INFO - Get LATEST chromedriver version for google-chrome\n",
      "2025-01-11 20:18:17,607 - INFO - Driver has been saved in cache [C:\\Users\\Utente\\.wdm\\drivers\\chromedriver\\win64\\131.0.6778.264]\n"
     ]
    }
   ],
   "source": [
    "# Setup Chrome options\n",
    "chrome_options = webdriver.ChromeOptions()\n",
    "chrome_options.add_argument(\"--headless\")  # Run in headless mode\n",
    "chrome_options.add_argument(\"--no-sandbox\")\n",
    "chrome_options.add_argument(\"--disable-dev-shm-usage\")\n",
    "\n",
    "# Initialize the WebDriver\n",
    "driver = webdriver.Chrome(service=Service(ChromeDriverManager().install()), options=chrome_options)"
   ]
  },
  {
   "cell_type": "code",
   "execution_count": 14,
   "metadata": {},
   "outputs": [
    {
     "name": "stderr",
     "output_type": "stream",
     "text": [
      "Fetching tournaments: 100%|██████████| 2/2 [00:06<00:00,  3.16s/it]\n",
      "2025-01-11 20:19:15,988 - INFO - Saved tournaments data to ..\\data\\raw\\tournaments.json\n"
     ]
    }
   ],
   "source": [
    "# Initialize the DataFrame for tournaments\n",
    "df_tournaments = pd.DataFrame(columns=[\"game\", \"reg_players\", \"max_players\", \"date\"])\n",
    "\n",
    "# Iterate over the game names with a progress bar\n",
    "for name in tqdm(games[\"name\"], desc=\"Fetching tournaments\", total=games.shape[0]):\n",
    "    time.sleep(REQUEST_DELAY)  # Delay\n",
    "    try:\n",
    "        # Find tournaments by game ID\n",
    "        game_id = find_id_from_gamename(name.lower().replace(\" \", \"\"))\n",
    "        df = find_tournaments_by_id(game_id)\n",
    "        # Concatenate the new data to the DataFrame\n",
    "        df_tournaments = pd.concat([df_tournaments, df], axis=0)\n",
    "    except Exception as e:\n",
    "        logger.error(f\"Error fetching tournaments for game {name}: {e}\")\n",
    "\n",
    "# Save the DataFrame to a JSON file\n",
    "print()\n",
    "df_tournaments.to_json(TOURNAMENTS_FILE, orient=\"records\")\n",
    "logger.info(f\"Saved tournaments data to {TOURNAMENTS_FILE}\")"
   ]
  }
 ],
 "metadata": {
  "kernelspec": {
   "display_name": ".venv",
   "language": "python",
   "name": "python3"
  },
  "language_info": {
   "codemirror_mode": {
    "name": "ipython",
    "version": 3
   },
   "file_extension": ".py",
   "mimetype": "text/x-python",
   "name": "python",
   "nbconvert_exporter": "python",
   "pygments_lexer": "ipython3",
   "version": "3.12.4"
  }
 },
 "nbformat": 4,
 "nbformat_minor": 2
}
