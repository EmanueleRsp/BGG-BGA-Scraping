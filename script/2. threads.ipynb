{
 "cells": [
  {
   "cell_type": "markdown",
   "metadata": {},
   "source": [
    "# 2. Retrieve threads"
   ]
  },
  {
   "cell_type": "markdown",
   "metadata": {},
   "source": [
    "> Note:\n",
    "> - I dati sono sufficienti ma occorre ristrutturarli, in quanto diversi da come li vorremmo\n",
    "> - Le reply non sono dirette: il subject delle reply è \"Re: [subject originale]\" e il body è il testo della reply"
   ]
  },
  {
   "cell_type": "markdown",
   "metadata": {},
   "source": [
    "Requirements"
   ]
  },
  {
   "cell_type": "code",
   "execution_count": 26,
   "metadata": {},
   "outputs": [
    {
     "name": "stdout",
     "output_type": "stream",
     "text": [
      "Note: you may need to restart the kernel to use updated packages.\n"
     ]
    }
   ],
   "source": [
    "%pip install -r ../requirements.txt -q"
   ]
  },
  {
   "cell_type": "markdown",
   "metadata": {},
   "source": [
    "Imports"
   ]
  },
  {
   "cell_type": "code",
   "execution_count": 27,
   "metadata": {},
   "outputs": [],
   "source": [
    "import os\n",
    "import time\n",
    "\n",
    "import pandas as pd\n",
    "\n",
    "import requests\n",
    "import xml.etree.ElementTree as ET\n",
    "import json\n",
    "from tqdm import tqdm\n",
    "import logging\n",
    "from bs4 import BeautifulSoup"
   ]
  },
  {
   "cell_type": "markdown",
   "metadata": {},
   "source": [
    "Logging configuration"
   ]
  },
  {
   "cell_type": "code",
   "execution_count": 28,
   "metadata": {},
   "outputs": [],
   "source": [
    "logging.basicConfig(level=logging.INFO, format=\"%(asctime)s - %(levelname)s - %(message)s\")\n",
    "logger = logging.getLogger()"
   ]
  },
  {
   "cell_type": "markdown",
   "metadata": {},
   "source": [
    "Constants"
   ]
  },
  {
   "cell_type": "code",
   "execution_count": 29,
   "metadata": {},
   "outputs": [],
   "source": [
    "# Repositories managing\n",
    "DATA_DIR = os.path.join(\"..\", \"data\")\n",
    "\n",
    "TOP_GAMES_LIST_DIR = DATA_DIR\n",
    "TOP_GAMES_LIST_FILE = os.path.join(TOP_GAMES_LIST_DIR, \"boardgames_ranks.csv\")\n",
    "\n",
    "USERNAMES_DIR = os.path.join(DATA_DIR, \"temp\")\n",
    "USERNAMES_FILE = os.path.join(USERNAMES_DIR, \"usernames.json\")\n",
    "\n",
    "FORUMS_DIR = DATA_DIR\n",
    "FORUMS_FILE = os.path.join(FORUMS_DIR, \"raw\", \"forums.json\")"
   ]
  },
  {
   "cell_type": "code",
   "execution_count": 30,
   "metadata": {},
   "outputs": [],
   "source": [
    "# Download parameters\n",
    "REQUEST_DELAY = 1\n",
    "BACKUP_PERIOD = 10\n",
    "MAX_RETRIES = 5\n",
    "MAX_THREADS = 5\n",
    "\n",
    "GAME_NUM = 2\n",
    "\n",
    "MAX_FORUMS_PER_GAME = 2\n",
    "MAX_THREADS_PER_FORUM = 5\n",
    "MAX_MESSAGES_PER_THREAD = 5"
   ]
  },
  {
   "cell_type": "code",
   "execution_count": 31,
   "metadata": {},
   "outputs": [],
   "source": [
    "# URLs\n",
    "BGG_BASE_URL = \"https://boardgamegeek.com/xmlapi2\""
   ]
  },
  {
   "cell_type": "markdown",
   "metadata": {},
   "source": [
    "Utility functions"
   ]
  },
  {
   "cell_type": "code",
   "execution_count": 32,
   "metadata": {},
   "outputs": [],
   "source": [
    "def save_to_json(data, filename):\n",
    "    \"\"\"\n",
    "    Salva i dati in un file JSON.\n",
    "    \"\"\"\n",
    "    with open(filename, \"w\", encoding=\"utf-8\") as f:\n",
    "        json.dump(data, f, ensure_ascii=False, indent=4)"
   ]
  },
  {
   "cell_type": "code",
   "execution_count": 33,
   "metadata": {},
   "outputs": [],
   "source": [
    "def append_to_json(new_data, filename):\n",
    "    \"\"\"\n",
    "    Aggiunge nuovi dati a un file JSON esistente senza duplicati.\n",
    "\n",
    "    Args:\n",
    "        new_data (list): I nuovi dati da aggiungere.\n",
    "        filename (str): Il nome del file JSON.\n",
    "    \"\"\"\n",
    "    try:\n",
    "        # Legge i dati esistenti, se il file esiste.\n",
    "        with open(filename, \"r\", encoding=\"utf-8\") as f:\n",
    "            existing_data = json.load(f)\n",
    "    except FileNotFoundError:\n",
    "        # Se il file non esiste, crea una lista vuota.\n",
    "        existing_data = []\n",
    "\n",
    "    # Rimuove duplicati combinando i dati nuovi con quelli esistenti.\n",
    "    combined_data = {json.dumps(item, sort_keys=True): item for item in existing_data + new_data}.values()\n",
    "\n",
    "    # Salva i dati combinati nel file JSON.\n",
    "    with open(filename, \"w\", encoding=\"utf-8\") as f:\n",
    "        json.dump(list(combined_data), f, ensure_ascii=False, indent=4)"
   ]
  },
  {
   "cell_type": "markdown",
   "metadata": {},
   "source": [
    "## 2.1 Functions"
   ]
  },
  {
   "cell_type": "code",
   "execution_count": 34,
   "metadata": {},
   "outputs": [],
   "source": [
    "def fetch_forum_list(game_id, max_forums=100):\n",
    "    \"\"\"\n",
    "    Fetches the list of forums associated with a game.\n",
    "    \"\"\"\n",
    "    url = f\"{BGG_BASE_URL}/forumlist?id={game_id}&type=thing\"\n",
    "    time.sleep(REQUEST_DELAY)  # Delay\n",
    "    response = requests.get(url)\n",
    "    if response.status_code == 200:\n",
    "        root = ET.fromstring(response.content)\n",
    "        forums = []\n",
    "        for forum in root.findall(\"forum\")[:max_forums]:\n",
    "            forums.append({\n",
    "                \"id\": forum.attrib.get(\"id\"),\n",
    "                \"title\": forum.attrib.get(\"title\"),\n",
    "                \"num_threads\": int(forum.attrib.get(\"numthreads\", 0)),\n",
    "                \"num_posts\": int(forum.attrib.get(\"posts\", 0)),\n",
    "                \"last_post_date\": forum.attrib.get(\"lastpostdate\")\n",
    "            })\n",
    "        return forums\n",
    "    else:\n",
    "        logger.error(f\"Error fetching forums for game {game_id}: {response.status_code}\")\n",
    "        return []"
   ]
  },
  {
   "cell_type": "code",
   "execution_count": 35,
   "metadata": {},
   "outputs": [],
   "source": [
    "def fetch_threads_from_forum(forum_id, max_threads=5):\n",
    "    \"\"\"\n",
    "    Fetches threads from a specific forum, limiting the number of threads.\n",
    "    \"\"\"\n",
    "    url = f\"{BGG_BASE_URL}/forum?id={forum_id}&page=1\"\n",
    "    time.sleep(REQUEST_DELAY)  # Delay\n",
    "    response = requests.get(url)\n",
    "    if response.status_code == 200:\n",
    "        root = ET.fromstring(response.content)\n",
    "        threads = []\n",
    "        for thread in root.findall(\"threads/thread\")[:max_threads]:\n",
    "            threads.append({\n",
    "                \"thread_id\": thread.attrib.get(\"id\"),\n",
    "                \"author\": thread.attrib.get(\"author\"),\n",
    "                \"subject\": thread.attrib.get(\"subject\"),\n",
    "                \"num_articles\": int(thread.attrib.get(\"numarticles\", 0)),\n",
    "                \"post_date\": thread.attrib.get(\"postdate\"),\n",
    "                \"last_post_date\": thread.attrib.get(\"lastpostdate\")\n",
    "            })\n",
    "        return threads\n",
    "    else:\n",
    "        logger.error(f\"Error fetching threads for forum {forum_id}: {response.status_code}\")\n",
    "        return []"
   ]
  },
  {
   "cell_type": "code",
   "execution_count": 36,
   "metadata": {},
   "outputs": [],
   "source": [
    "def fetch_messages_from_thread(thread_id, max_posts=5, sleep_time=0.5, max_retries=5):\n",
    "    \"\"\"\n",
    "    Fetches messages from a specific thread, supporting pagination.\n",
    "    \"\"\"\n",
    "    messages = []\n",
    "    usernames = set()\n",
    "    \n",
    "    url = f\"{BGG_BASE_URL}/thread?id={thread_id}\"\n",
    "    status_code = 500\n",
    "\n",
    "    while status_code != 200:\n",
    "        time.sleep(sleep_time)  # Delay\n",
    "        try:\n",
    "            response = requests.get(url)\n",
    "            status_code = response.status_code\n",
    "            if status_code == 200:\n",
    "                break\n",
    "            max_retries -= 1\n",
    "            if max_retries == 0:\n",
    "                logger.error(f\"Error fetching messages for thread {thread_id}: {status_code}. Retries exhausted.\")\n",
    "                return [], []\n",
    "        except Exception as e:\n",
    "            logger.error(f\"Error fetching messages for thread {thread_id}: {e}. Retries exhausted.\")\n",
    "            return [], []\n",
    "    \n",
    "    if response.status_code == 200:\n",
    "        root = ET.fromstring(response.content)\n",
    "        for article in root.find(\"articles\").findall(\"article\")[:max_posts]:\n",
    "            usernames.add(article.attrib.get(\"username\"))\n",
    "            messages.append({\n",
    "                \"article_id\": article.attrib.get(\"id\"),\n",
    "                \"username\": article.attrib.get(\"username\"),\n",
    "                \"post_date\": article.attrib.get(\"postdate\"),\n",
    "                \"edit_date\": article.attrib.get(\"editdate\"),\n",
    "                \"num_edits\": int(article.attrib.get(\"numedits\", 0)),\n",
    "                \"subject\": article.find(\"subject\").text if article.find(\"subject\") is not None else None,\n",
    "                \"content\": article.find(\"body\").text if article.find(\"body\") is not None else None\n",
    "            })\n",
    "        logger.info(f\"\\t\\tDownloaded {len(messages)} messages from thread {thread_id}\")\n",
    "    else:\n",
    "        logger.error(f\"Error fetching messages for thread {thread_id}: {response.status_code}\")\n",
    "        return [], []\n",
    "    \n",
    "    return messages, list(usernames)"
   ]
  },
  {
   "cell_type": "markdown",
   "metadata": {},
   "source": [
    "## 2.2 Execution"
   ]
  },
  {
   "cell_type": "code",
   "execution_count": 37,
   "metadata": {},
   "outputs": [],
   "source": [
    "with open(USERNAMES_FILE, \"r\", encoding=\"utf-8\") as f:\n",
    "    usernames = set(json.load(f))\n",
    "\n",
    "# Top games data\n",
    "games = pd.read_csv(TOP_GAMES_LIST_FILE).loc[:GAME_NUM-1, [\"id\", \"name\"]]"
   ]
  },
  {
   "cell_type": "code",
   "execution_count": 38,
   "metadata": {},
   "outputs": [],
   "source": [
    "saved_once = False"
   ]
  },
  {
   "cell_type": "code",
   "execution_count": 39,
   "metadata": {},
   "outputs": [
    {
     "name": "stderr",
     "output_type": "stream",
     "text": [
      "Fetching forums:   0%|          | 0/2 [00:00<?, ?it/s]"
     ]
    },
    {
     "name": "stdout",
     "output_type": "stream",
     "text": [
      "\n"
     ]
    },
    {
     "name": "stderr",
     "output_type": "stream",
     "text": [
      "2025-01-11 19:55:01,636 - INFO - Retrieving 2 forums for game Brass: Birmingham...\n",
      "2025-01-11 19:55:03,476 - INFO - \tRetrieving 5 threads for forum Reviews...\n",
      "2025-01-11 19:55:04,911 - INFO - \t\tDownloaded 5 messages from thread 3415529\n",
      "2025-01-11 19:55:06,183 - INFO - \t\tDownloaded 5 messages from thread 3363071\n",
      "2025-01-11 19:55:07,482 - INFO - \t\tDownloaded 1 messages from thread 3418104\n",
      "2025-01-11 19:55:09,410 - INFO - \t\tDownloaded 5 messages from thread 3405292\n",
      "2025-01-11 19:55:10,887 - INFO - \t\tDownloaded 3 messages from thread 3375145\n",
      "2025-01-11 19:55:12,598 - INFO - \tRetrieving 5 threads for forum Sessions...\n",
      "2025-01-11 19:55:13,821 - INFO - \t\tDownloaded 5 messages from thread 3043438\n",
      "2025-01-11 19:55:15,082 - INFO - \t\tDownloaded 2 messages from thread 2645328\n",
      "2025-01-11 19:55:16,308 - INFO - \t\tDownloaded 3 messages from thread 2325688\n",
      "2025-01-11 19:55:17,561 - INFO - \t\tDownloaded 3 messages from thread 2067171\n",
      "2025-01-11 19:55:18,828 - INFO - \t\tDownloaded 5 messages from thread 2041473\n",
      "2025-01-11 19:55:18,849 - INFO - Saved data for game Brass: Birmingham into '..\\data\\raw\\forums.json'\n",
      "Fetching forums:  50%|█████     | 1/2 [00:20<00:20, 20.06s/it]"
     ]
    },
    {
     "name": "stdout",
     "output_type": "stream",
     "text": [
      "\n"
     ]
    },
    {
     "name": "stderr",
     "output_type": "stream",
     "text": [
      "2025-01-11 19:55:21,589 - INFO - Retrieving 2 forums for game Pandemic Legacy: Season 1...\n",
      "2025-01-11 19:55:23,408 - INFO - \tRetrieving 5 threads for forum Reviews...\n",
      "2025-01-11 19:55:24,706 - INFO - \t\tDownloaded 2 messages from thread 3359270\n",
      "2025-01-11 19:55:25,975 - INFO - \t\tDownloaded 2 messages from thread 2914484\n",
      "2025-01-11 19:55:27,245 - INFO - \t\tDownloaded 2 messages from thread 2587737\n",
      "2025-01-11 19:55:28,543 - INFO - \t\tDownloaded 1 messages from thread 2886655\n",
      "2025-01-11 19:55:29,864 - INFO - \t\tDownloaded 5 messages from thread 2512372\n",
      "2025-01-11 19:55:31,717 - INFO - \tRetrieving 5 threads for forum Sessions...\n",
      "2025-01-11 19:55:33,143 - INFO - \t\tDownloaded 1 messages from thread 3398935\n",
      "2025-01-11 19:55:34,559 - INFO - \t\tDownloaded 1 messages from thread 3368723\n",
      "2025-01-11 19:55:35,937 - INFO - \t\tDownloaded 5 messages from thread 2598830\n",
      "2025-01-11 19:55:37,232 - INFO - \t\tDownloaded 2 messages from thread 2273751\n",
      "2025-01-11 19:55:38,756 - INFO - \t\tDownloaded 2 messages from thread 2497901\n",
      "2025-01-11 19:55:38,773 - INFO - Saved data for game Pandemic Legacy: Season 1 into '..\\data\\raw\\forums.json'\n",
      "Fetching forums: 100%|██████████| 2/2 [00:39<00:00, 19.99s/it]\n"
     ]
    }
   ],
   "source": [
    "for name, game_id in tqdm(zip(games[\"name\"], games[\"id\"]), desc=\"Fetching forums\", total=games.shape[0]):\n",
    "    print(\"\")\n",
    "    game = {\n",
    "        \"id\": game_id,\n",
    "        \"name\": name,\n",
    "        \"forums\": []\n",
    "    }\n",
    "    # Fetch the list of forums for the specified game\n",
    "    forums = fetch_forum_list(game_id, max_forums=MAX_FORUMS_PER_GAME)\n",
    "    logger.info(f\"Retrieving {len(forums)} forums for game {game['name']}...\")\n",
    "\n",
    "    # For each forum in the list of forums\n",
    "    for forum in forums:\n",
    "        # Fetch the threads from the specified forum\n",
    "        threads = fetch_threads_from_forum(forum[\"id\"], max_threads=MAX_THREADS_PER_FORUM)\n",
    "        logger.info(f\"\\tRetrieving {len(threads)} threads for forum {forum['title']}...\")\n",
    "\n",
    "        # For each thread in the list of threads\n",
    "        for thread in threads:\n",
    "            # Fetch the messages and users from the specified thread\n",
    "            thread[\"messages\"], users = fetch_messages_from_thread(thread[\"thread_id\"], max_posts=MAX_MESSAGES_PER_THREAD)\n",
    "            # Update the set of usernames with the fetched users\n",
    "            usernames.update(users)\n",
    "\n",
    "        # Add the threads to the forum\n",
    "        forum[\"threads\"] = threads\n",
    "\n",
    "    # Add the forums to the game\n",
    "    game[\"forums\"] = forums\n",
    "\n",
    "    # Save the data to the JSON file\n",
    "    if not saved_once:\n",
    "        # Save the data to the JSON file\n",
    "        save_to_json([game], FORUMS_FILE)\n",
    "        saved_once = True\n",
    "    else:\n",
    "        # Append the data to the JSON file\n",
    "        append_to_json([game], FORUMS_FILE)\n",
    "    logger.info(f\"Saved data for game {game['name']} into '{FORUMS_FILE}'\")\n",
    "\n",
    "    time.sleep(REQUEST_DELAY)  # Delay  \n",
    "\n",
    "# Save the set of usernames to the JSON file\n",
    "save_to_json(list(usernames), USERNAMES_FILE)"
   ]
  }
 ],
 "metadata": {
  "kernelspec": {
   "display_name": ".venv",
   "language": "python",
   "name": "python3"
  },
  "language_info": {
   "codemirror_mode": {
    "name": "ipython",
    "version": 3
   },
   "file_extension": ".py",
   "mimetype": "text/x-python",
   "name": "python",
   "nbconvert_exporter": "python",
   "pygments_lexer": "ipython3",
   "version": "3.12.4"
  }
 },
 "nbformat": 4,
 "nbformat_minor": 2
}
